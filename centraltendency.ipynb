{
 "cells": [
  {
   "cell_type": "code",
   "execution_count": 5,
   "id": "81ffc095",
   "metadata": {},
   "outputs": [
    {
     "name": "stdout",
     "output_type": "stream",
     "text": [
      "Enter the no of elements8\n",
      "Enter the element1\n",
      "Enter the element1\n",
      "Enter the element9\n",
      "Enter the element5\n",
      "Enter the element8\n",
      "Enter the element7\n",
      "Enter the element9\n",
      "Enter the element9\n",
      "Created list is [1, 1, 9, 5, 8, 7, 9, 9]\n"
     ]
    }
   ],
   "source": [
    "data=[]\n",
    "n=int(input('Enter the no of elements'))\n",
    "for i in range(0,n):\n",
    "    ele=int(input('Enter the element'))\n",
    "    data.append(ele)\n",
    "print('Created list is',data)    "
   ]
  },
  {
   "cell_type": "code",
   "execution_count": 11,
   "id": "d26c40cd",
   "metadata": {},
   "outputs": [
    {
     "name": "stdout",
     "output_type": "stream",
     "text": [
      "mean(without built in function) 6.125\n",
      "mean(with in function):6.125\n"
     ]
    }
   ],
   "source": [
    "sum=0\n",
    "for i in data:\n",
    "    sum=sum+i\n",
    "mean=sum/len(data)\n",
    "print(\"mean(without built in function)\",str(mean))\n",
    "\n",
    "import numpy as np\n",
    "print(\"mean(with in function):%s\"%np.mean(data))"
   ]
  },
  {
   "cell_type": "code",
   "execution_count": 18,
   "id": "cba61605",
   "metadata": {},
   "outputs": [
    {
     "name": "stdout",
     "output_type": "stream",
     "text": [
      "sorteddata [1, 1, 5, 7, 8, 9, 9, 9]\n",
      "the median is 7.5\n",
      "meadian(with in function):7.5\n"
     ]
    }
   ],
   "source": [
    "sorteddata=sorted(data)\n",
    "print(\"sorteddata\",sorteddata)\n",
    "if n%2==0:\n",
    "    midindex1=n//2\n",
    "    midindex2=midindex1-1\n",
    "    median=(sorteddata[midindex1]+sorteddata[midindex2])/2    \n",
    "else:\n",
    "    midindex=n//2\n",
    "    median=(sorteddata[midindex])\n",
    "print(\"the median is\",median)   \n",
    "\n",
    "import numpy as np\n",
    "print(\"meadian(with in function):%s\"%np.median(data))"
   ]
  },
  {
   "cell_type": "code",
   "execution_count": 22,
   "id": "91a707d0",
   "metadata": {},
   "outputs": [
    {
     "name": "stdout",
     "output_type": "stream",
     "text": [
      "the mode  [9]\n",
      "mode(with in function):9\n"
     ]
    }
   ],
   "source": [
    "count={}\n",
    "for element in data:\n",
    "    if element in count:\n",
    "        count[element]+=1\n",
    "    else:\n",
    "        count[element]=1\n",
    "max_count=max(count.values())   \n",
    "mode=[element for element,c in count.items() if c==max_count]\n",
    "print(\"the mode \",mode)\n",
    "\n",
    "import statistics as stat\n",
    "print(\"mode(with in function):%s\"%stat.mode(data))"
   ]
  },
  {
   "cell_type": "code",
   "execution_count": null,
   "id": "ae16fcf8",
   "metadata": {},
   "outputs": [],
   "source": []
  }
 ],
 "metadata": {
  "kernelspec": {
   "display_name": "Python 3 (ipykernel)",
   "language": "python",
   "name": "python3"
  },
  "language_info": {
   "codemirror_mode": {
    "name": "ipython",
    "version": 3
   },
   "file_extension": ".py",
   "mimetype": "text/x-python",
   "name": "python",
   "nbconvert_exporter": "python",
   "pygments_lexer": "ipython3",
   "version": "3.10.9"
  }
 },
 "nbformat": 4,
 "nbformat_minor": 5
}
