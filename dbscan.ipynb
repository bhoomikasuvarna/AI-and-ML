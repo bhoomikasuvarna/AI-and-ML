{
 "cells": [
  {
   "cell_type": "markdown",
   "id": "c9562047",
   "metadata": {},
   "source": []
  },
  {
   "cell_type": "code",
   "execution_count": 3,
   "id": "43f8474a",
   "metadata": {},
   "outputs": [
    {
     "data": {
      "text/html": [
       "<div>\n",
       "<style scoped>\n",
       "    .dataframe tbody tr th:only-of-type {\n",
       "        vertical-align: middle;\n",
       "    }\n",
       "\n",
       "    .dataframe tbody tr th {\n",
       "        vertical-align: top;\n",
       "    }\n",
       "\n",
       "    .dataframe thead th {\n",
       "        text-align: right;\n",
       "    }\n",
       "</style>\n",
       "<table border=\"1\" class=\"dataframe\">\n",
       "  <thead>\n",
       "    <tr style=\"text-align: right;\">\n",
       "      <th></th>\n",
       "      <th>0</th>\n",
       "      <th>1</th>\n",
       "    </tr>\n",
       "  </thead>\n",
       "  <tbody>\n",
       "    <tr>\n",
       "      <th>0</th>\n",
       "      <td>8.622185</td>\n",
       "      <td>1.935796</td>\n",
       "    </tr>\n",
       "    <tr>\n",
       "      <th>1</th>\n",
       "      <td>-4.736710</td>\n",
       "      <td>-7.970958</td>\n",
       "    </tr>\n",
       "    <tr>\n",
       "      <th>2</th>\n",
       "      <td>9.621222</td>\n",
       "      <td>0.925423</td>\n",
       "    </tr>\n",
       "    <tr>\n",
       "      <th>3</th>\n",
       "      <td>6.162095</td>\n",
       "      <td>-0.273254</td>\n",
       "    </tr>\n",
       "    <tr>\n",
       "      <th>4</th>\n",
       "      <td>8.697488</td>\n",
       "      <td>-1.057452</td>\n",
       "    </tr>\n",
       "    <tr>\n",
       "      <th>...</th>\n",
       "      <td>...</td>\n",
       "      <td>...</td>\n",
       "    </tr>\n",
       "    <tr>\n",
       "      <th>995</th>\n",
       "      <td>8.993880</td>\n",
       "      <td>2.203768</td>\n",
       "    </tr>\n",
       "    <tr>\n",
       "      <th>996</th>\n",
       "      <td>-5.082768</td>\n",
       "      <td>-9.644539</td>\n",
       "    </tr>\n",
       "    <tr>\n",
       "      <th>997</th>\n",
       "      <td>-6.252268</td>\n",
       "      <td>-8.412482</td>\n",
       "    </tr>\n",
       "    <tr>\n",
       "      <th>998</th>\n",
       "      <td>-5.479154</td>\n",
       "      <td>-10.536955</td>\n",
       "    </tr>\n",
       "    <tr>\n",
       "      <th>999</th>\n",
       "      <td>6.120559</td>\n",
       "      <td>0.968963</td>\n",
       "    </tr>\n",
       "  </tbody>\n",
       "</table>\n",
       "<p>1000 rows × 2 columns</p>\n",
       "</div>"
      ],
      "text/plain": [
       "            0          1\n",
       "0    8.622185   1.935796\n",
       "1   -4.736710  -7.970958\n",
       "2    9.621222   0.925423\n",
       "3    6.162095  -0.273254\n",
       "4    8.697488  -1.057452\n",
       "..        ...        ...\n",
       "995  8.993880   2.203768\n",
       "996 -5.082768  -9.644539\n",
       "997 -6.252268  -8.412482\n",
       "998 -5.479154 -10.536955\n",
       "999  6.120559   0.968963\n",
       "\n",
       "[1000 rows x 2 columns]"
      ]
     },
     "execution_count": 3,
     "metadata": {},
     "output_type": "execute_result"
    }
   ],
   "source": [
    "import pandas as pd\n",
    "import matplotlib.pyplot as plt\n",
    "import numpy as np\n",
    "df=pd.read_csv(\"blobs.csv\")\n",
    "df\n"
   ]
  },
  {
   "cell_type": "code",
   "execution_count": 5,
   "id": "b53dd57c",
   "metadata": {},
   "outputs": [
    {
     "data": {
      "text/plain": [
       "array([[  8.62218539,   1.93579579],\n",
       "       [ -4.73670958,  -7.97095765],\n",
       "       [  9.62122205,   0.92542315],\n",
       "       ...,\n",
       "       [ -6.2522678 ,  -8.412482  ],\n",
       "       [ -5.479154  , -10.53695547],\n",
       "       [  6.12055883,   0.96896287]])"
      ]
     },
     "execution_count": 5,
     "metadata": {},
     "output_type": "execute_result"
    }
   ],
   "source": [
    "x=df.iloc[:,[0,1]].values\n",
    "x"
   ]
  },
  {
   "cell_type": "code",
   "execution_count": 9,
   "id": "22634306",
   "metadata": {},
   "outputs": [
    {
     "data": {
      "text/plain": [
       "array([ 0,  1, -1,  0,  0,  1,  0,  1,  0,  0,  1,  0,  0,  0,  2,  2,  2,\n",
       "        1,  2,  2, -1,  2,  2,  1,  0,  1,  1,  1,  1,  1,  1,  1,  1,  0,\n",
       "        1,  2,  0,  1,  2,  2,  2,  1,  1,  0,  0,  1,  1,  0, -1,  2,  2,\n",
       "        2,  2,  2,  1,  1,  2,  1,  2,  0,  0,  1,  0,  0,  1, -1,  0,  2,\n",
       "        2, -1,  2,  0,  0,  1,  0,  0,  1,  2,  1,  0,  0,  1,  0,  0,  1,\n",
       "        1,  1,  2,  2,  0,  2,  2, -1,  2,  1,  2,  0,  2,  1,  2,  1,  0,\n",
       "        2,  2,  1, -1,  2, -1,  0,  0,  1,  0,  0,  1,  2,  1,  1,  1,  1,\n",
       "        2,  1,  0,  1,  2,  1,  1,  2,  0, -1, -1,  2,  1,  0,  2,  2,  1,\n",
       "       -1,  0,  0,  0,  0,  0,  1,  1,  1,  1,  1,  1,  2,  2,  1,  0,  0,\n",
       "        1,  1,  2,  1,  0,  2,  1,  0,  0,  0,  1,  1,  2,  0,  2,  1,  2,\n",
       "        1,  2, -1,  0,  0,  0,  2,  1,  2,  2,  2,  0,  2,  0,  1,  0,  0,\n",
       "        2,  1,  2,  1,  1,  1,  1,  0,  0,  2,  0,  2,  2,  2,  1,  0,  2,\n",
       "        0,  1,  1,  0,  0,  1,  0,  0,  2,  2,  0,  0,  2,  2,  1,  2,  2,\n",
       "        0,  2,  1,  1,  1,  2,  0,  1,  1,  0,  1,  0,  0,  1,  0,  0,  2,\n",
       "        2,  1,  2,  0,  1,  1,  1,  0,  1,  0,  2,  2,  1,  2,  1,  1,  1,\n",
       "        0,  0,  0,  2,  2,  2,  2,  1,  0,  1,  1,  1,  1,  1,  1,  2,  2,\n",
       "        0,  1,  1,  2,  2,  0,  1,  0,  0, -1,  1,  1,  1,  1,  2,  0,  2,\n",
       "        1,  1,  2,  0,  1,  1,  0,  2,  2,  2,  1,  2,  0,  0,  1,  1,  1,\n",
       "        1,  0,  2,  2,  0,  0,  2,  0, -1,  2,  1,  0,  2,  1,  1,  2,  0,\n",
       "        0,  1,  2,  2,  1,  1,  2,  2,  2,  1,  2,  0,  1,  2,  0,  1,  1,\n",
       "        0,  1,  0,  0,  0,  0,  0,  1,  0,  2,  2,  0,  0,  0,  1,  2,  0,\n",
       "        0,  1,  2,  2,  1,  1,  1,  1,  1, -1,  0,  2,  1, -1,  2,  2,  2,\n",
       "        1,  0,  1,  1,  2,  2,  0,  2,  1,  0,  2,  1, -1,  2,  2,  0,  0,\n",
       "        2,  1,  0,  1,  1,  2,  0,  0,  2,  0,  0,  1,  0,  2,  1,  0,  1,\n",
       "        1,  0,  2,  1,  1,  2,  1,  1, -1,  2,  2,  2,  0, -1,  2,  2,  0,\n",
       "        1,  0,  1,  0,  0,  0,  2,  1,  0,  1,  0,  2,  2,  1,  0,  2,  0,\n",
       "        2,  2,  1,  0,  0,  2,  0,  1,  2,  1,  1,  0,  2,  0,  2,  2,  0,\n",
       "        2,  1,  1,  0,  2,  2,  2,  2,  2,  0,  0,  2,  2,  0,  0, -1,  0,\n",
       "        0,  1,  2,  1,  2,  1,  1,  1,  1,  0,  1,  2,  0,  0,  2,  1,  0,\n",
       "        2,  1,  0,  2,  0,  1,  1,  0,  1,  0,  0,  1,  0,  1,  2,  1,  0,\n",
       "       -1,  0,  0,  2,  2,  1,  2, -1,  0,  2,  0,  1,  1,  2,  2,  1,  2,\n",
       "        1,  2,  2,  0,  2,  0,  2,  1, -1,  0,  0,  0,  0,  0,  0,  1,  2,\n",
       "        0,  1,  0,  1,  2,  2,  1,  1,  0,  1,  2,  1,  1,  0,  1,  1,  0,\n",
       "        2,  0,  0,  0,  1,  2,  2,  0,  1,  0,  0,  0,  1,  2,  0,  0,  2,\n",
       "        2,  2,  2, -1,  1,  1,  0,  0,  1,  2,  2, -1,  1,  0,  1,  2,  1,\n",
       "        2,  0,  0,  1,  1,  0,  2,  2,  1,  1,  2,  0,  1,  1,  2,  0,  2,\n",
       "        1,  0,  2,  0,  0,  0,  2,  0,  1,  2,  0, -1,  0,  2,  2,  1, -1,\n",
       "        2,  2,  0,  2,  1, -1,  0,  1,  0,  2,  2,  1,  0,  2,  2,  0,  1,\n",
       "        2,  0,  0,  1,  0,  2,  2,  0,  1,  2,  1,  2,  0,  2,  1,  0,  2,\n",
       "        2,  2,  0,  2,  1,  1,  2,  0,  1,  0,  1,  1,  0,  2,  2,  2, -1,\n",
       "        2,  2,  0,  0,  1,  2,  1,  2,  0,  0,  0,  2,  1,  0,  0,  2,  0,\n",
       "        0, -1,  0,  2,  2,  2,  2, -1,  0,  1,  0,  2,  0,  2,  2,  1,  2,\n",
       "        0,  0,  2,  0,  2,  0,  0,  2,  1,  2,  2,  0,  0,  1,  1,  2,  2,\n",
       "        2,  0,  1,  2,  0,  1,  1,  0,  1,  2,  1,  1,  0,  2,  1,  1,  2,\n",
       "        1,  2,  1,  2,  0,  2,  0,  1,  2,  2,  1,  1,  0,  1,  0,  1,  1,\n",
       "       -1,  1,  2,  2,  0,  2,  2,  1,  0,  0,  0,  2,  2,  1,  0, -1,  0,\n",
       "        2,  1,  0,  1,  1,  0,  0,  0,  0, -1,  2,  2,  2,  2,  0,  2,  2,\n",
       "        0,  2, -1,  1,  1,  2,  1, -1,  2,  0,  0,  2,  0,  1,  0,  0,  1,\n",
       "        0,  1,  2,  1,  1,  0,  1,  0,  1,  0,  1,  0,  0,  2,  1,  1,  0,\n",
       "        0,  1,  1,  1,  0,  0,  0,  0,  2,  2,  2,  1,  2,  1,  1,  1,  0,\n",
       "        2, -1,  0,  2,  2,  1,  2,  1,  0,  0,  2, -1,  1,  2,  1,  0,  2,\n",
       "        1,  2,  2,  2,  0, -1,  1, -1,  0,  2,  1,  1,  0,  2,  1,  2,  1,\n",
       "        2,  1,  0,  0,  2,  1,  1,  2,  2,  1,  2,  0,  2,  0,  1,  2,  0,\n",
       "        2,  1,  2,  1,  1,  1,  1,  1,  0, -1,  2,  1,  2, -1,  0,  0,  2,\n",
       "        0,  1,  1,  2,  0,  2,  0,  2,  0,  2,  0,  0,  2,  2,  0, -1, -1,\n",
       "       -1,  2,  1,  0,  2,  0,  0,  2,  0,  0,  2,  1,  2,  0,  1,  1,  1,\n",
       "        0,  0,  1,  0,  1,  0,  0,  1,  0,  0,  2,  0,  1,  2,  2,  0,  1,\n",
       "        0,  2,  0,  1,  2, -1,  2,  2,  2,  2, -1,  1,  2,  2,  0,  2,  0,\n",
       "        1,  1,  2,  1,  2,  2,  2,  1,  2,  0,  1,  1,  1,  0],\n",
       "      dtype=int64)"
      ]
     },
     "execution_count": 9,
     "metadata": {},
     "output_type": "execute_result"
    }
   ],
   "source": [
    "from sklearn.cluster import DBSCAN\n",
    "db=DBSCAN(eps=0.5,min_samples=5)\n",
    "y_db=db.fit_predict(x)\n",
    "y_db"
   ]
  },
  {
   "cell_type": "code",
   "execution_count": 15,
   "id": "3cb86ea2",
   "metadata": {},
   "outputs": [],
   "source": [
    "n_clusters_=len(set(y_db))-(1 if -1 in y_db else 0)"
   ]
  },
  {
   "cell_type": "code",
   "execution_count": 16,
   "id": "94042f99",
   "metadata": {},
   "outputs": [
    {
     "data": {
      "image/png": "[encoded data removed]",
      "text/plain": [
       "<Figure size 640x480 with 1 Axes>"
      ]
     },
     "metadata": {},
     "output_type": "display_data"
    }
   ],
   "source": [
    "plt.scatter(x[y_db==0,0],x[y_db==0,1],c=\"red\",label=\"cluster1\")\n",
    "plt.scatter(x[y_db==1,0],x[y_db==1,1],c=\"blue\",label=\"cluster2\")\n",
    "plt.scatter(x[y_db==2,0],x[y_db==2,1],c=\"pink\",label=\"cluster3\")\n",
    "plt.scatter(x[y_db==-1,0],x[y_db==-1,1],c=\"gray\",label=\"noise\",marker=\"x\")\n",
    "plt.title(f\"DBSCAN clustering (Number of clusters:{n_clusters_})\")\n",
    "plt.legend(loc=\"best\")\n",
    "plt.show()\n"
   ]
  },
  {
   "cell_type": "code",
   "execution_count": null,
   "id": "7bab116b",
   "metadata": {},
   "outputs": [],
   "source": []
  }
 ],
 "metadata": {
  "kernelspec": {
   "display_name": "Python 3 (ipykernel)",
   "language": "python",
   "name": "python3"
  },
  "language_info": {
   "codemirror_mode": {
    "name": "ipython",
    "version": 3
   },
   "file_extension": ".py",
   "mimetype": "text/x-python",
   "name": "python",
   "nbconvert_exporter": "python",
   "pygments_lexer": "ipython3",
   "version": "3.10.9"
  }
 },
 "nbformat": 4,
 "nbformat_minor": 5
}
